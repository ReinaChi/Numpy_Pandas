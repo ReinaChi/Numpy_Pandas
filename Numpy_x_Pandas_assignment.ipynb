{
 "cells": [
  {
   "cell_type": "code",
   "execution_count": 2,
   "metadata": {},
   "outputs": [],
   "source": [
    "import pandas as pd"
   ]
  },
  {
   "cell_type": "markdown",
   "metadata": {
    "id": "F3TRjccJONWB"
   },
   "source": [
    "1. Create a nested list which contains the name, age and race of 10 people each. Turn this list to a dataframe."
   ]
  },
  {
   "cell_type": "code",
   "execution_count": 3,
   "metadata": {},
   "outputs": [
    {
     "name": "stdout",
     "output_type": "stream",
     "text": [
      "         0   1                 2\n",
      "0    Anita  18           African\n",
      "1    David  25        Australian\n",
      "2   Chioma  10           African\n",
      "3     Jwon  22             Asian\n",
      "4    Adele  30          European\n",
      "5    Aoife  18       White Irish\n",
      "6   Harvey  35          American\n",
      "7  Shannon  28             Irish\n",
      "8     Mark  45   Native American\n",
      "9      Jay  26  Central American\n",
      "\n",
      " Shape of the data:  (10, 3)\n"
     ]
    }
   ],
   "source": [
    "bio = [['Anita', 18, 'African'], ['David', 25, 'Australian'],  ['Chioma', 10, 'African'],\n",
    "       ['Jwon', 22, 'Asian'], ['Adele', 30, 'European'], ['Aoife', 18, 'White Irish'], \n",
    "       ['Harvey', 35, 'American'], ['Shannon', 28, 'Irish'], ['Mark', 45, 'Native American'], ['Jay', 26, 'Central American']]\n",
    "                                                                                  \n",
    "df = pd.DataFrame(bio)\n",
    "print(df)\n",
    "\n",
    "print(\"\\n Shape of the data: \", df.shape)"
   ]
  },
  {
   "cell_type": "markdown",
   "metadata": {
    "id": "EwSu_P0NONWF"
   },
   "source": [
    "2. Label the columns with the appropriate column names"
   ]
  },
  {
   "cell_type": "code",
   "execution_count": 4,
   "metadata": {},
   "outputs": [
    {
     "name": "stdout",
     "output_type": "stream",
     "text": [
      "      Name  Age              Race\n",
      "0    Anita   18           African\n",
      "1    David   25        Australian\n",
      "2   Chioma   10           African\n",
      "3     Jwon   22             Asian\n",
      "4    Adele   30          European\n",
      "5    Aoife   18       White Irish\n",
      "6   Harvey   35          American\n",
      "7  Shannon   28             Irish\n",
      "8     Mark   45   Native American\n",
      "9      Jay   26  Central American\n"
     ]
    }
   ],
   "source": [
    "df = pd.DataFrame (bio, columns = ['Name', 'Age', 'Race'])\n",
    "print (df)"
   ]
  },
  {
   "cell_type": "markdown",
   "metadata": {
    "id": "7gSj1WGuONWG"
   },
   "source": [
    "3. Add a new column to your dataframe called weight and enter values for it."
   ]
  },
  {
   "cell_type": "code",
   "execution_count": 5,
   "metadata": {},
   "outputs": [
    {
     "data": {
      "text/html": [
       "<div>\n",
       "<style scoped>\n",
       "    .dataframe tbody tr th:only-of-type {\n",
       "        vertical-align: middle;\n",
       "    }\n",
       "\n",
       "    .dataframe tbody tr th {\n",
       "        vertical-align: top;\n",
       "    }\n",
       "\n",
       "    .dataframe thead th {\n",
       "        text-align: right;\n",
       "    }\n",
       "</style>\n",
       "<table border=\"1\" class=\"dataframe\">\n",
       "  <thead>\n",
       "    <tr style=\"text-align: right;\">\n",
       "      <th></th>\n",
       "      <th>Name</th>\n",
       "      <th>Age</th>\n",
       "      <th>Race</th>\n",
       "      <th>Weight</th>\n",
       "    </tr>\n",
       "  </thead>\n",
       "  <tbody>\n",
       "    <tr>\n",
       "      <th>0</th>\n",
       "      <td>Anita</td>\n",
       "      <td>18</td>\n",
       "      <td>African</td>\n",
       "      <td>55</td>\n",
       "    </tr>\n",
       "    <tr>\n",
       "      <th>1</th>\n",
       "      <td>David</td>\n",
       "      <td>25</td>\n",
       "      <td>Australian</td>\n",
       "      <td>70</td>\n",
       "    </tr>\n",
       "    <tr>\n",
       "      <th>2</th>\n",
       "      <td>Chioma</td>\n",
       "      <td>10</td>\n",
       "      <td>African</td>\n",
       "      <td>34</td>\n",
       "    </tr>\n",
       "    <tr>\n",
       "      <th>3</th>\n",
       "      <td>Jwon</td>\n",
       "      <td>22</td>\n",
       "      <td>Asian</td>\n",
       "      <td>81</td>\n",
       "    </tr>\n",
       "    <tr>\n",
       "      <th>4</th>\n",
       "      <td>Adele</td>\n",
       "      <td>30</td>\n",
       "      <td>European</td>\n",
       "      <td>74</td>\n",
       "    </tr>\n",
       "    <tr>\n",
       "      <th>5</th>\n",
       "      <td>Aoife</td>\n",
       "      <td>18</td>\n",
       "      <td>White Irish</td>\n",
       "      <td>55</td>\n",
       "    </tr>\n",
       "    <tr>\n",
       "      <th>6</th>\n",
       "      <td>Harvey</td>\n",
       "      <td>35</td>\n",
       "      <td>American</td>\n",
       "      <td>62</td>\n",
       "    </tr>\n",
       "    <tr>\n",
       "      <th>7</th>\n",
       "      <td>Shannon</td>\n",
       "      <td>28</td>\n",
       "      <td>Irish</td>\n",
       "      <td>90</td>\n",
       "    </tr>\n",
       "    <tr>\n",
       "      <th>8</th>\n",
       "      <td>Mark</td>\n",
       "      <td>45</td>\n",
       "      <td>Native American</td>\n",
       "      <td>72</td>\n",
       "    </tr>\n",
       "    <tr>\n",
       "      <th>9</th>\n",
       "      <td>Jay</td>\n",
       "      <td>26</td>\n",
       "      <td>Central American</td>\n",
       "      <td>75</td>\n",
       "    </tr>\n",
       "  </tbody>\n",
       "</table>\n",
       "</div>"
      ],
      "text/plain": [
       "      Name  Age              Race  Weight\n",
       "0    Anita   18           African      55\n",
       "1    David   25        Australian      70\n",
       "2   Chioma   10           African      34\n",
       "3     Jwon   22             Asian      81\n",
       "4    Adele   30          European      74\n",
       "5    Aoife   18       White Irish      55\n",
       "6   Harvey   35          American      62\n",
       "7  Shannon   28             Irish      90\n",
       "8     Mark   45   Native American      72\n",
       "9      Jay   26  Central American      75"
      ]
     },
     "execution_count": 5,
     "metadata": {},
     "output_type": "execute_result"
    }
   ],
   "source": [
    "df.insert(3, \"Weight\", [55, 70, 34, 81, 74, 55, 62, 90, 72, 75], True)\n",
    "df"
   ]
  },
  {
   "cell_type": "markdown",
   "metadata": {
    "id": "Q7Bk6XimONWG"
   },
   "source": [
    "4. Change the name of the column for \"weight\" to \"height\". Feel free to use any method you find. "
   ]
  },
  {
   "cell_type": "code",
   "execution_count": 6,
   "metadata": {},
   "outputs": [
    {
     "name": "stdout",
     "output_type": "stream",
     "text": [
      "      Name  Age              Race  Height\n",
      "0    Anita   18           African      55\n",
      "1    David   25        Australian      70\n",
      "2   Chioma   10           African      34\n",
      "3     Jwon   22             Asian      81\n",
      "4    Adele   30          European      74\n",
      "5    Aoife   18       White Irish      55\n",
      "6   Harvey   35          American      62\n",
      "7  Shannon   28             Irish      90\n",
      "8     Mark   45   Native American      72\n",
      "9      Jay   26  Central American      75\n"
     ]
    }
   ],
   "source": [
    "df.rename(columns={'Weight': 'Height'}, inplace=True)\n",
    "print(df)"
   ]
  },
  {
   "cell_type": "markdown",
   "metadata": {
    "id": "lTPop9lvONWG"
   },
   "source": [
    "5. Change the row index to another indexing of your choice."
   ]
  },
  {
   "cell_type": "code",
   "execution_count": 10,
   "metadata": {},
   "outputs": [
    {
     "name": "stdout",
     "output_type": "stream",
     "text": [
      "        Name  Age              Race  Height\n",
      "C1     Anita   18           African      55\n",
      "C2     David   25        Australian      70\n",
      "C3    Chioma   10           African      34\n",
      "C4      Jwon   22             Asian      81\n",
      "C5     Adele   30          European      74\n",
      "C6     Aoife   18       White Irish      55\n",
      "C7    Harvey   35          American      62\n",
      "C8   Shannon   28             Irish      90\n",
      "C9      Mark   45   Native American      72\n",
      "C10      Jay   26  Central American      75\n"
     ]
    }
   ],
   "source": [
    "df.index = ['C1', 'C2', 'C3', 'C4', 'C5', 'C6', 'C7', 'C8', 'C9', 'C10']\n",
    "\n",
    "print(df)"
   ]
  },
  {
   "cell_type": "code",
   "execution_count": 28,
   "metadata": {},
   "outputs": [
    {
     "name": "stdout",
     "output_type": "stream",
     "text": [
      "        Name  Age              Race  Height\n",
      "C1     Anita   18           African      55\n",
      "C2     David   25        Australian      70\n",
      "C3    Chioma   10           African      34\n",
      "C4      Jwon   22             Asian      81\n",
      "C5     Adele   30          European      74\n",
      "C6     Aoife   18       White Irish      55\n",
      "C7    Harvey   35          American      62\n",
      "C8   Shannon   28             Irish      90\n",
      "C9      Mark   45   Native American      72\n",
      "C10      Jay   26  Central American      75\n"
     ]
    }
   ],
   "source": [
    "#copying out the array to give it a new variable so that the original array is not changed\n",
    "df1 = df[0:10].copy()\n",
    "df1.x = -1\n",
    "print(df1)"
   ]
  },
  {
   "cell_type": "markdown",
   "metadata": {
    "id": "jT9g2_H0ONWH"
   },
   "source": [
    "6. Select/display only the age and race columns"
   ]
  },
  {
   "cell_type": "code",
   "execution_count": 32,
   "metadata": {},
   "outputs": [
    {
     "data": {
      "text/html": [
       "<div>\n",
       "<style scoped>\n",
       "    .dataframe tbody tr th:only-of-type {\n",
       "        vertical-align: middle;\n",
       "    }\n",
       "\n",
       "    .dataframe tbody tr th {\n",
       "        vertical-align: top;\n",
       "    }\n",
       "\n",
       "    .dataframe thead th {\n",
       "        text-align: right;\n",
       "    }\n",
       "</style>\n",
       "<table border=\"1\" class=\"dataframe\">\n",
       "  <thead>\n",
       "    <tr style=\"text-align: right;\">\n",
       "      <th></th>\n",
       "      <th>Age</th>\n",
       "      <th>Race</th>\n",
       "    </tr>\n",
       "  </thead>\n",
       "  <tbody>\n",
       "    <tr>\n",
       "      <th>C1</th>\n",
       "      <td>18</td>\n",
       "      <td>African</td>\n",
       "    </tr>\n",
       "    <tr>\n",
       "      <th>C2</th>\n",
       "      <td>25</td>\n",
       "      <td>Australian</td>\n",
       "    </tr>\n",
       "    <tr>\n",
       "      <th>C3</th>\n",
       "      <td>10</td>\n",
       "      <td>African</td>\n",
       "    </tr>\n",
       "    <tr>\n",
       "      <th>C4</th>\n",
       "      <td>22</td>\n",
       "      <td>Asian</td>\n",
       "    </tr>\n",
       "    <tr>\n",
       "      <th>C5</th>\n",
       "      <td>30</td>\n",
       "      <td>European</td>\n",
       "    </tr>\n",
       "    <tr>\n",
       "      <th>C6</th>\n",
       "      <td>18</td>\n",
       "      <td>White Irish</td>\n",
       "    </tr>\n",
       "    <tr>\n",
       "      <th>C7</th>\n",
       "      <td>35</td>\n",
       "      <td>American</td>\n",
       "    </tr>\n",
       "    <tr>\n",
       "      <th>C8</th>\n",
       "      <td>28</td>\n",
       "      <td>Irish</td>\n",
       "    </tr>\n",
       "    <tr>\n",
       "      <th>C9</th>\n",
       "      <td>45</td>\n",
       "      <td>Native American</td>\n",
       "    </tr>\n",
       "    <tr>\n",
       "      <th>C10</th>\n",
       "      <td>26</td>\n",
       "      <td>Central American</td>\n",
       "    </tr>\n",
       "  </tbody>\n",
       "</table>\n",
       "</div>"
      ],
      "text/plain": [
       "     Age              Race\n",
       "C1    18           African\n",
       "C2    25        Australian\n",
       "C3    10           African\n",
       "C4    22             Asian\n",
       "C5    30          European\n",
       "C6    18       White Irish\n",
       "C7    35          American\n",
       "C8    28             Irish\n",
       "C9    45   Native American\n",
       "C10   26  Central American"
      ]
     },
     "execution_count": 32,
     "metadata": {},
     "output_type": "execute_result"
    }
   ],
   "source": [
    "df1[['Age', 'Race']]\n"
   ]
  },
  {
   "cell_type": "markdown",
   "metadata": {
    "id": "nPffixWwONWH"
   },
   "source": [
    "7. Select/display the first five names and their age "
   ]
  },
  {
   "cell_type": "code",
   "execution_count": 33,
   "metadata": {},
   "outputs": [
    {
     "data": {
      "text/html": [
       "<div>\n",
       "<style scoped>\n",
       "    .dataframe tbody tr th:only-of-type {\n",
       "        vertical-align: middle;\n",
       "    }\n",
       "\n",
       "    .dataframe tbody tr th {\n",
       "        vertical-align: top;\n",
       "    }\n",
       "\n",
       "    .dataframe thead th {\n",
       "        text-align: right;\n",
       "    }\n",
       "</style>\n",
       "<table border=\"1\" class=\"dataframe\">\n",
       "  <thead>\n",
       "    <tr style=\"text-align: right;\">\n",
       "      <th></th>\n",
       "      <th>Name</th>\n",
       "      <th>Age</th>\n",
       "      <th>Race</th>\n",
       "      <th>Height</th>\n",
       "    </tr>\n",
       "  </thead>\n",
       "  <tbody>\n",
       "    <tr>\n",
       "      <th>C1</th>\n",
       "      <td>Anita</td>\n",
       "      <td>18</td>\n",
       "      <td>African</td>\n",
       "      <td>55</td>\n",
       "    </tr>\n",
       "    <tr>\n",
       "      <th>C2</th>\n",
       "      <td>David</td>\n",
       "      <td>25</td>\n",
       "      <td>Australian</td>\n",
       "      <td>70</td>\n",
       "    </tr>\n",
       "    <tr>\n",
       "      <th>C3</th>\n",
       "      <td>Chioma</td>\n",
       "      <td>10</td>\n",
       "      <td>African</td>\n",
       "      <td>34</td>\n",
       "    </tr>\n",
       "    <tr>\n",
       "      <th>C4</th>\n",
       "      <td>Jwon</td>\n",
       "      <td>22</td>\n",
       "      <td>Asian</td>\n",
       "      <td>81</td>\n",
       "    </tr>\n",
       "    <tr>\n",
       "      <th>C5</th>\n",
       "      <td>Adele</td>\n",
       "      <td>30</td>\n",
       "      <td>European</td>\n",
       "      <td>74</td>\n",
       "    </tr>\n",
       "  </tbody>\n",
       "</table>\n",
       "</div>"
      ],
      "text/plain": [
       "      Name  Age        Race  Height\n",
       "C1   Anita   18     African      55\n",
       "C2   David   25  Australian      70\n",
       "C3  Chioma   10     African      34\n",
       "C4    Jwon   22       Asian      81\n",
       "C5   Adele   30    European      74"
      ]
     },
     "execution_count": 33,
     "metadata": {},
     "output_type": "execute_result"
    }
   ],
   "source": [
    "df1.loc['C1': 'C5']"
   ]
  },
  {
   "cell_type": "markdown",
   "metadata": {
    "id": "RnosePWHONWH"
   },
   "source": [
    "8. Select all rows but only the third column"
   ]
  },
  {
   "cell_type": "code",
   "execution_count": 35,
   "metadata": {},
   "outputs": [
    {
     "data": {
      "text/plain": [
       "C1     55\n",
       "C2     70\n",
       "C3     34\n",
       "C4     81\n",
       "C5     74\n",
       "C6     55\n",
       "C7     62\n",
       "C8     90\n",
       "C9     72\n",
       "C10    75\n",
       "Name: Height, dtype: int64"
      ]
     },
     "execution_count": 35,
     "metadata": {},
     "output_type": "execute_result"
    }
   ],
   "source": [
    "df1.loc[:, 'Height']"
   ]
  },
  {
   "cell_type": "markdown",
   "metadata": {
    "id": "loU9ctgRONWI"
   },
   "source": [
    "9. Write some code to return the row index back to the default numbering before it was changed. Use your researching skills."
   ]
  },
  {
   "cell_type": "code",
   "execution_count": 39,
   "metadata": {},
   "outputs": [
    {
     "name": "stdout",
     "output_type": "stream",
     "text": [
      "      Name  Age              Race  Height\n",
      "0    Anita   18           African      55\n",
      "1    David   25        Australian      70\n",
      "2   Chioma   10           African      34\n",
      "3     Jwon   22             Asian      81\n",
      "4    Adele   30          European      74\n",
      "5    Aoife   18       White Irish      55\n",
      "6   Harvey   35          American      62\n",
      "7  Shannon   28             Irish      90\n",
      "8     Mark   45   Native American      72\n",
      "9      Jay   26  Central American      75\n"
     ]
    }
   ],
   "source": [
    "df.reset_index(level=None, drop=True, inplace=True)\n",
    "print(df)"
   ]
  },
  {
   "cell_type": "code",
   "execution_count": 40,
   "metadata": {
    "id": "3yBUOaexONWI"
   },
   "outputs": [],
   "source": [
    "chimamanda = {\"Books\":[\"Americanah\", \"Half of a Yellow Sun\", \"Purple Hibiscus\",\n",
    "                    \"The Thing Around Your Neck\", \"We Should All Be Feminists\"], \n",
    "             \"Ratings\":[297972, 120131, 5116, 32064, 204882]}"
   ]
  },
  {
   "cell_type": "markdown",
   "metadata": {
    "id": "iT145jmMONWJ"
   },
   "source": [
    "10. Create a dataframe from the dictionary above. Using the dataframe, select books with ratings not less than 200000"
   ]
  },
  {
   "cell_type": "code",
   "execution_count": 41,
   "metadata": {},
   "outputs": [
    {
     "data": {
      "text/html": [
       "<div>\n",
       "<style scoped>\n",
       "    .dataframe tbody tr th:only-of-type {\n",
       "        vertical-align: middle;\n",
       "    }\n",
       "\n",
       "    .dataframe tbody tr th {\n",
       "        vertical-align: top;\n",
       "    }\n",
       "\n",
       "    .dataframe thead th {\n",
       "        text-align: right;\n",
       "    }\n",
       "</style>\n",
       "<table border=\"1\" class=\"dataframe\">\n",
       "  <thead>\n",
       "    <tr style=\"text-align: right;\">\n",
       "      <th></th>\n",
       "      <th>Books</th>\n",
       "      <th>Ratings</th>\n",
       "    </tr>\n",
       "  </thead>\n",
       "  <tbody>\n",
       "    <tr>\n",
       "      <th>0</th>\n",
       "      <td>Americanah</td>\n",
       "      <td>297972</td>\n",
       "    </tr>\n",
       "    <tr>\n",
       "      <th>1</th>\n",
       "      <td>Half of a Yellow Sun</td>\n",
       "      <td>120131</td>\n",
       "    </tr>\n",
       "    <tr>\n",
       "      <th>2</th>\n",
       "      <td>Purple Hibiscus</td>\n",
       "      <td>5116</td>\n",
       "    </tr>\n",
       "    <tr>\n",
       "      <th>3</th>\n",
       "      <td>The Thing Around Your Neck</td>\n",
       "      <td>32064</td>\n",
       "    </tr>\n",
       "    <tr>\n",
       "      <th>4</th>\n",
       "      <td>We Should All Be Feminists</td>\n",
       "      <td>204882</td>\n",
       "    </tr>\n",
       "  </tbody>\n",
       "</table>\n",
       "</div>"
      ],
      "text/plain": [
       "                        Books  Ratings\n",
       "0                  Americanah   297972\n",
       "1        Half of a Yellow Sun   120131\n",
       "2             Purple Hibiscus     5116\n",
       "3  The Thing Around Your Neck    32064\n",
       "4  We Should All Be Feminists   204882"
      ]
     },
     "execution_count": 41,
     "metadata": {},
     "output_type": "execute_result"
    }
   ],
   "source": [
    "chimamandaBooks = pd.DataFrame(chimamanda)\n",
    "chimamandaBooks"
   ]
  },
  {
   "cell_type": "code",
   "execution_count": 48,
   "metadata": {},
   "outputs": [
    {
     "data": {
      "text/html": [
       "<div>\n",
       "<style scoped>\n",
       "    .dataframe tbody tr th:only-of-type {\n",
       "        vertical-align: middle;\n",
       "    }\n",
       "\n",
       "    .dataframe tbody tr th {\n",
       "        vertical-align: top;\n",
       "    }\n",
       "\n",
       "    .dataframe thead th {\n",
       "        text-align: right;\n",
       "    }\n",
       "</style>\n",
       "<table border=\"1\" class=\"dataframe\">\n",
       "  <thead>\n",
       "    <tr style=\"text-align: right;\">\n",
       "      <th></th>\n",
       "      <th>Books</th>\n",
       "      <th>Ratings</th>\n",
       "    </tr>\n",
       "  </thead>\n",
       "  <tbody>\n",
       "    <tr>\n",
       "      <th>0</th>\n",
       "      <td>Americanah</td>\n",
       "      <td>297972</td>\n",
       "    </tr>\n",
       "    <tr>\n",
       "      <th>4</th>\n",
       "      <td>We Should All Be Feminists</td>\n",
       "      <td>204882</td>\n",
       "    </tr>\n",
       "  </tbody>\n",
       "</table>\n",
       "</div>"
      ],
      "text/plain": [
       "                        Books  Ratings\n",
       "0                  Americanah   297972\n",
       "4  We Should All Be Feminists   204882"
      ]
     },
     "execution_count": 48,
     "metadata": {},
     "output_type": "execute_result"
    }
   ],
   "source": [
    "chimamandaBooks_ = chimamandaBooks.loc[chimamandaBooks['Ratings'] > 200000]\n",
    "chimamandaBooks_"
   ]
  },
  {
   "cell_type": "code",
   "execution_count": 8,
   "metadata": {},
   "outputs": [],
   "source": [
    "import numpy as np"
   ]
  },
  {
   "cell_type": "markdown",
   "metadata": {
    "id": "Iv2UJqNArVjM"
   },
   "source": [
    "11. Create a numpy array with data type boolean"
   ]
  },
  {
   "cell_type": "code",
   "execution_count": 9,
   "metadata": {},
   "outputs": [
    {
     "name": "stdout",
     "output_type": "stream",
     "text": [
      "[ True  True False False  True False  True False]\n"
     ]
    }
   ],
   "source": [
    "bool_arr = np.array([1, 0.5, 0, None, 'a', '', True, False], dtype=bool)\n",
    "print(bool_arr)"
   ]
  },
  {
   "cell_type": "code",
   "execution_count": 23,
   "metadata": {
    "id": "-RmPlq2Kqwk5"
   },
   "outputs": [
    {
     "name": "stdout",
     "output_type": "stream",
     "text": [
      "[[1 0 0]\n",
      " [1 1 1]\n",
      " [0 0 0]]\n"
     ]
    }
   ],
   "source": [
    "# 12. Convert the following array to an integer\n",
    "\n",
    "a = np.array([[True, False, False],\n",
    "              [True, True, True],\n",
    "              [False, False, False]])\n",
    "\n",
    "p = a.astype(int)\n",
    "\n",
    "print(p)"
   ]
  },
  {
   "cell_type": "code",
   "execution_count": 11,
   "metadata": {
    "id": "PviA_PmHsVUE"
   },
   "outputs": [],
   "source": [
    "#13. Stack these numpy arrays - vertically and horizontally\n",
    "\n",
    "a = np.array([[7, 8, 9],\n",
    "              [10, 11, 12]])\n",
    "\n",
    "aa = np.array([[1, 2, 3],\n",
    "               [4, 5, 6]])"
   ]
  },
  {
   "cell_type": "code",
   "execution_count": 12,
   "metadata": {},
   "outputs": [
    {
     "name": "stdout",
     "output_type": "stream",
     "text": [
      "[[ 7  8  9]\n",
      " [10 11 12]\n",
      " [ 1  2  3]\n",
      " [ 4  5  6]]\n"
     ]
    }
   ],
   "source": [
    "#stacking vertically = stacking by column and you can stack these arrays using the vstack\n",
    "\n",
    "aaa = np.vstack((a, aa))\n",
    "print(aaa)"
   ]
  },
  {
   "cell_type": "code",
   "execution_count": 13,
   "metadata": {},
   "outputs": [
    {
     "name": "stdout",
     "output_type": "stream",
     "text": [
      "[[ 7  8  9  1  2  3]\n",
      " [10 11 12  4  5  6]]\n"
     ]
    }
   ],
   "source": [
    "#stacking horizontally = stacking by row and you can stack these arrays using the hstack\n",
    "\n",
    "aaa = np.hstack((a,aa))\n",
    "print(aaa)"
   ]
  },
  {
   "cell_type": "markdown",
   "metadata": {
    "id": "Vr2vTe6AtTkp"
   },
   "source": [
    "14. Create 2 3D arrays, add them together to create a new array, then sort the new array."
   ]
  },
  {
   "cell_type": "code",
   "execution_count": 14,
   "metadata": {},
   "outputs": [
    {
     "name": "stdout",
     "output_type": "stream",
     "text": [
      "[[[16 15 17]\n",
      "  [22 22 22]]\n",
      "\n",
      " [[26 28 30]\n",
      "  [34 33 35]]]\n"
     ]
    }
   ],
   "source": [
    "mark = np.array([[[1, 2, 3], [4, 5, 6]], [[7, 8, 9], [10, 11, 12]]])\n",
    "mark_ = np.array([[[15, 13, 14], [18, 17, 16]], [[19, 20, 21], [24, 22, 23]]])\n",
    "\n",
    "mark1 = np.add(mark, mark_)\n",
    "\n",
    "print(mark1)"
   ]
  },
  {
   "cell_type": "code",
   "execution_count": 15,
   "metadata": {},
   "outputs": [
    {
     "name": "stdout",
     "output_type": "stream",
     "text": [
      "[[[15 16 17]\n",
      "  [22 22 22]]\n",
      "\n",
      " [[26 28 30]\n",
      "  [33 34 35]]]\n"
     ]
    }
   ],
   "source": [
    "print(np.sort(mark1))"
   ]
  },
  {
   "cell_type": "code",
   "execution_count": 16,
   "metadata": {
    "colab": {
     "base_uri": "https://localhost:8080/",
     "height": 200
    },
    "id": "sR8Z-84utKIu",
    "outputId": "1a943ffb-5edb-45fa-ee67-47ca9b8c7528"
   },
   "outputs": [],
   "source": [
    "#15. Using step slicing, slice the array below from any position using 3 steps\n",
    "\n",
    "a = np.array([5, 8, 7, 1, 0, 9, 4, 2, 6, 3])\n"
   ]
  },
  {
   "cell_type": "code",
   "execution_count": 17,
   "metadata": {},
   "outputs": [
    {
     "name": "stdout",
     "output_type": "stream",
     "text": [
      "[5 1 4]\n"
     ]
    }
   ],
   "source": [
    "print(a[0:7:3])   #a = (start:end:step)"
   ]
  },
  {
   "cell_type": "code",
   "execution_count": null,
   "metadata": {},
   "outputs": [],
   "source": []
  }
 ],
 "metadata": {
  "colab": {
   "name": "Numpy x Pandas assignment",
   "provenance": []
  },
  "kernelspec": {
   "display_name": "Python 3",
   "language": "python",
   "name": "python3"
  },
  "language_info": {
   "codemirror_mode": {
    "name": "ipython",
    "version": 3
   },
   "file_extension": ".py",
   "mimetype": "text/x-python",
   "name": "python",
   "nbconvert_exporter": "python",
   "pygments_lexer": "ipython3",
   "version": "3.8.8"
  }
 },
 "nbformat": 4,
 "nbformat_minor": 1
}
